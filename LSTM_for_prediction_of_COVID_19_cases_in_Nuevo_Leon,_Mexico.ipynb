{
  "nbformat": 4,
  "nbformat_minor": 0,
  "metadata": {
    "colab": {
      "name": "LSTM for prediction of COVID-19 cases in Nuevo Leon, Mexico.ipynb",
      "provenance": [],
      "collapsed_sections": []
    },
    "kernelspec": {
      "display_name": "Python 3",
      "name": "python3"
    },
    "accelerator": "GPU"
  },
  "cells": [
    {
      "cell_type": "markdown",
      "metadata": {
        "id": "mizdyuLvAGaM"
      },
      "source": [
        "# PIA Sistemas Adaptativos Martes M1\n",
        "# Los Pros"
      ]
    },
    {
      "cell_type": "markdown",
      "metadata": {
        "id": "WbEGQaPoAjhk"
      },
      "source": [
        "# Carga de librerias y Datos\n",
        "\n"
      ]
    },
    {
      "cell_type": "markdown",
      "metadata": {
        "id": "c9OFnqmy6Sys"
      },
      "source": [
        "**Importar librerias**"
      ]
    },
    {
      "cell_type": "code",
      "metadata": {
        "id": "ciWq9BbdAx4p"
      },
      "source": [
        "import os\n",
        "import datetime\n",
        "from datetime import date\n",
        "import math\n",
        "import IPython\n",
        "import IPython.display\n",
        "import numpy as np\n",
        "import pandas as pd\n",
        "import seaborn as sns\n",
        "import tensorflow as tf\n",
        "from keras.models import Sequential\n",
        "from keras.layers import LSTM\n",
        "from keras.layers import Dense\n",
        "from numpy import array\n",
        "from pandas import to_datetime\n"
      ],
      "execution_count": null,
      "outputs": []
    },
    {
      "cell_type": "markdown",
      "metadata": {
        "id": "5yr5YZ8IBq95"
      },
      "source": [
        "**Importar los Datasets** "
      ]
    },
    {
      "cell_type": "code",
      "metadata": {
        "colab": {
          "base_uri": "https://localhost:8080/"
        },
        "id": "d0SeUUa8B0m6",
        "outputId": "b4efca61-99a5-447c-fad6-d77d19c1dede"
      },
      "source": [
        "url_conf = 'https://raw.githubusercontent.com/eduardosalaz/Covid19-NuevoLeon/master/confimados.csv'\n",
        "df_confirmados = pd.read_csv(url_conf, header=0)\n",
        "print('Estatal: ')\n",
        "print(df_confirmados.head())\n",
        "print(df_confirmados.tail())\n",
        "url_municipios = 'https://raw.githubusercontent.com/eduardosalaz/Covid19-NuevoLeon/master/municipios.csv'\n",
        "df_municipios = pd.read_csv(url_municipios)\n",
        "print('\\nMunicipal: ')\n",
        "print(df_municipios.head())\n",
        "print(df_municipios.tail())\n",
        "# define input sequence\n",
        "df_confirmados.columns = ['ds','y']\n",
        "casos = df_confirmados['y']\n",
        "casos = casos.tolist()\n",
        "\n"
      ],
      "execution_count": null,
      "outputs": [
        {
          "output_type": "stream",
          "name": "stdout",
          "text": [
            "Estatal: \n",
            "        fecha  total\n",
            "0  2020-04-11    192\n",
            "1  2020-04-12    201\n",
            "2  2020-04-13    208\n",
            "3  2020-04-14    216\n",
            "4  2020-04-15    230\n",
            "          fecha  total\n",
            "215  2020-11-12  89756\n",
            "216  2020-11-13  90427\n",
            "217  2020-11-14  91115\n",
            "218  2020-11-15  91804\n",
            "219  2020-11-16  92483\n",
            "\n",
            "Municipal: \n",
            "        fecha  monterrey  guadalupe  ...  melchorocampo  rayones  otrosEstados\n",
            "0  2020-04-11         56         25  ...              0        0             8\n",
            "1  2020-04-12         59         26  ...              0        0             8\n",
            "2  2020-04-13         60         26  ...              0        0             9\n",
            "3  2020-04-14         61         29  ...              0        0             9\n",
            "4  2020-04-15         69         29  ...              0        0             9\n",
            "\n",
            "[5 rows x 53 columns]\n",
            "          fecha  monterrey  guadalupe  ...  melchorocampo  rayones  otrosEstados\n",
            "215  2020-11-12      25242      12072  ...             12        7           683\n",
            "216  2020-11-13      25421      12143  ...             12        7           685\n",
            "217  2020-11-14      25600      12283  ...             14        7           685\n",
            "218  2020-11-15      25794      12329  ...             14        7           686\n",
            "219  2020-11-16      25915      12467  ...             14        7           686\n",
            "\n",
            "[5 rows x 53 columns]\n"
          ]
        }
      ]
    },
    {
      "cell_type": "markdown",
      "metadata": {
        "id": "-Z4hoISG6agG"
      },
      "source": [
        "# Trabajar a nivel Estatal"
      ]
    },
    {
      "cell_type": "markdown",
      "metadata": {
        "id": "iK-VTFB3cJZm"
      },
      "source": [
        "**obtener la fecha a predecir**"
      ]
    },
    {
      "cell_type": "code",
      "metadata": {
        "id": "ASz2GXpac37L"
      },
      "source": [
        "#@title Seleccionar Fecha a Predecir\n",
        "fecha_predecir = \"2021-08-12\" #@param {type:\"date\"}\n",
        "\n",
        "df_confirmados.columns = ['ds','y']\n",
        "df_confirmados['ds'] = to_datetime(df_confirmados['ds'])\n",
        "\n",
        "fecha_predecir = datetime.datetime.strptime(fecha_predecir, '%Y-%m-%d')\n",
        "\n",
        "ultimo = df_confirmados.tail(1)\n",
        "ultima_fecha_str = ultimo.iloc[0]['ds']\n",
        "ultima_fecha = ultima_fecha_str.to_pydatetime()\n",
        "delta = fecha_predecir - ultima_fecha\n",
        "delta_days = delta.days"
      ],
      "execution_count": null,
      "outputs": []
    },
    {
      "cell_type": "markdown",
      "metadata": {
        "id": "X8CUA9GhKlJI"
      },
      "source": [
        " **Separar el Dataset en Datasets de entrenamiento y prueba**\n"
      ]
    },
    {
      "cell_type": "code",
      "metadata": {
        "colab": {
          "base_uri": "https://localhost:8080/"
        },
        "id": "KGGBWlfzK04u",
        "outputId": "8e67a1aa-8ecb-43d9-c87d-edb226dbd38e"
      },
      "source": [
        "\n",
        "#def split_sequence(sequence, n_steps):\n",
        "\t#return array(X), array(y)\n",
        "\n",
        "def separarData(casos):\n",
        "\n",
        "\t# choose a number of time steps\n",
        "\tn_steps = 5\n",
        "\t# split into samples\n",
        "\t#X, y = split_sequence(casos, n_steps)\n",
        "\tX, y = list(), list()\n",
        "\tsequence=casos\n",
        "\tfor i in range(len(sequence)):\n",
        "\t\t# find the end of this pattern\n",
        "\t\tend_ix = i + n_steps\n",
        "\t\t# check if we are beyond the sequence\n",
        "\t\tif end_ix > len(sequence)-1:\n",
        "\t\t\tbreak\n",
        "\t\t# gather input and output parts of the pattern\n",
        "\t\tseq_x, seq_y = sequence[i:end_ix], sequence[end_ix]\n",
        "\t\tX.append(seq_x)\n",
        "\t\ty.append(seq_y)\t\n",
        "\tX = array(X)\n",
        "\ty = array(y)\n",
        "\t# reshape from [samples, timesteps] into [samples, timesteps, features]\n",
        "\tn_features = 1\n",
        "\tX = X.reshape((X.shape[0], X.shape[1], n_features))\n",
        "\treturn X,y,n_steps,n_features\n",
        "\t\n",
        "X,y,n_steps,n_features = separarData(casos)\n",
        "# summarize the data\n",
        "print('entrenamiento y prueba')\n",
        "for i in range(3):\n",
        "\tprint(X[i], y[i])"
      ],
      "execution_count": null,
      "outputs": [
        {
          "output_type": "stream",
          "name": "stdout",
          "text": [
            "entrenamiento y prueba\n",
            "[[192]\n",
            " [201]\n",
            " [208]\n",
            " [216]\n",
            " [230]] 241\n",
            "[[201]\n",
            " [208]\n",
            " [216]\n",
            " [230]\n",
            " [241]] 246\n",
            "[[208]\n",
            " [216]\n",
            " [230]\n",
            " [241]\n",
            " [246]] 258\n"
          ]
        }
      ]
    },
    {
      "cell_type": "markdown",
      "metadata": {
        "id": "Yfxzh-93ercz"
      },
      "source": [
        "**Definir el modelo de la LSTM**"
      ]
    },
    {
      "cell_type": "code",
      "metadata": {
        "id": "hvdG6tnee8KV",
        "colab": {
          "base_uri": "https://localhost:8080/"
        },
        "outputId": "f396ab3e-3172-4652-e118-31e0da978b3d"
      },
      "source": [
        "model = Sequential()\n",
        "model.add(LSTM(50, activation='relu',return_sequences=True, input_shape=(n_steps, n_features)))\n",
        "model.add(LSTM(50, activation='relu'))\n",
        "model.add(Dense(1))\n",
        "model.compile(optimizer='adam', loss='mse')"
      ],
      "execution_count": null,
      "outputs": [
        {
          "output_type": "stream",
          "name": "stdout",
          "text": [
            "WARNING:tensorflow:Layer lstm will not use cuDNN kernels since it doesn't meet the criteria. It will use a generic GPU kernel as fallback when running on GPU.\n",
            "WARNING:tensorflow:Layer lstm_1 will not use cuDNN kernels since it doesn't meet the criteria. It will use a generic GPU kernel as fallback when running on GPU.\n"
          ]
        }
      ]
    },
    {
      "cell_type": "markdown",
      "metadata": {
        "id": "rjuP4r53hlG6"
      },
      "source": [
        "**Entrenar la LSTM**"
      ]
    },
    {
      "cell_type": "code",
      "metadata": {
        "id": "-d2C0lg9hpTI"
      },
      "source": [
        "def entrenarLSTM(X,y):\n",
        "  model.fit(X, y, epochs=200, verbose=0)\n"
      ],
      "execution_count": null,
      "outputs": []
    },
    {
      "cell_type": "markdown",
      "metadata": {
        "id": "sY6fD3S8izwF"
      },
      "source": [
        "**Mostrar Predicciones**\n"
      ]
    },
    {
      "cell_type": "code",
      "metadata": {
        "id": "Xj3U-uESi38c"
      },
      "source": [
        "def predecir(X,y,model,casos):\n",
        "  x_input= casos[-5:]\n",
        "  x_input = array(x_input)\n",
        "  x_input = x_input.reshape((1, n_steps, n_features))\n",
        "  yhat = model.predict(x_input, verbose=0)\n",
        "  yhat = math.floor(yhat[0][0])\n",
        "  casos.append(yhat)\n",
        "\n",
        "for i in range(delta_days):\n",
        "\n",
        "  separarData(casos)\n",
        "  entrenarLSTM(X,y)\n",
        "  predecir(X,y,model,casos)\n",
        "\n",
        "prediccion = casos[-1]\n",
        "casos = df_confirmados['y']\n",
        "casos = casos.tolist()  \n"
      ],
      "execution_count": null,
      "outputs": []
    },
    {
      "cell_type": "code",
      "metadata": {
        "colab": {
          "base_uri": "https://localhost:8080/"
        },
        "id": "kF3Gr6UqW8Na",
        "outputId": "ea30b28e-42f2-43e0-af6b-ea0d646001b8"
      },
      "source": [
        "print(\"El valor de la predicción para: \" + str(fecha_predecir) + \" es: \" + str(prediccion) + \" casos\")"
      ],
      "execution_count": null,
      "outputs": [
        {
          "output_type": "stream",
          "text": [
            "El valor de la predicción para: 2021-08-12 00:00:00 es: 468555 casos\n"
          ],
          "name": "stdout"
        }
      ]
    },
    {
      "cell_type": "markdown",
      "metadata": {
        "id": "RpMQSIwL7EHP"
      },
      "source": [
        "# Trabajar a nivel municipal"
      ]
    },
    {
      "cell_type": "markdown",
      "metadata": {
        "id": "Lrqf_DIa89eU"
      },
      "source": [
        "**Seleccionar municipio**"
      ]
    },
    {
      "cell_type": "code",
      "metadata": {
        "colab": {
          "base_uri": "https://localhost:8080/"
        },
        "id": "w8Z4D4528p_X",
        "outputId": "37d4f0c6-bdda-41c5-8221-6b36c8ddab62"
      },
      "source": [
        "#@title Seleccionar Municipio para predecir\n",
        "municipio_name_str = \"Allende\" #@param [\"Abasolo\", \"Agualeguas\", \"Allende\", \"Anahuac\", \"Apodaca\", \"Aramberri\", \"Bustamante\", \"Cadereyta\", \"El Carmen\", \"Cerralvo\", \"China\", \"Cienega de Flores\", \"Doctor Arroyo\", \"Doctor Coss\", \"Doctor Gonzalez\", \"Galeana\", \"Garcia\", \"General Bravo\", \"General Escobedo\", \"General Teran\", \"General Trevino\", \"General Zaragoza\", \"General Zuazua\", \"Guadalupe\", \"Hidalgo\", \"Higueras\", \"Hualahuises\", \"Iturbide\", \"Juarez\", \"Lampazos\", \"Linares\", \"Los Aldamas\", \"Los Herreras\", \"Los Ramones\", \"Marin\", \"Melchor Ocampo\", \"Mier y Noriega\", \"Mina\", \"Montemorelos\", \"Monterrey\", \"Paras\", \"Pesqueria\", \"Rayones\", \"Sabinas Hidalgo\", \"Salinas Victoria\", \"San Nicolas de los Garza\", \"San Pedro\", \"Santa Catarina\", \"Santiago\", \"Vallecillo\", \"Villaldama\"]\n",
        "lista_df = list(df_municipios.columns)\n",
        "copia_name = municipio_name_str\n",
        "municipio_name_str = municipio_name_str.lower()\n",
        "import re\n",
        "sentence = re.sub(r\"\\s+\", \"\", municipio_name_str, flags=re.UNICODE)\n",
        "\n",
        "\n",
        "pattern = re.compile(sentence)\n",
        "\n",
        "diccionario = {i:df_municipios.columns.get_loc(i) for i in df_municipios.columns}\n",
        "dict_solo = {}\n",
        "\n",
        "for buscar in diccionario.keys():\n",
        "  if pattern.search(buscar):\n",
        "    nombre = buscar\n",
        "    numero_col = diccionario[buscar]\n",
        "\n",
        "df_especifico = df_municipios[['fecha', nombre]].copy()\n",
        "\n",
        "# define input sequence\n",
        "df_especifico.columns = ['ds','y']\n",
        "casosM = df_especifico['y']\n",
        "casosM = casosM.tolist()\n",
        "print(df_especifico)"
      ],
      "execution_count": null,
      "outputs": [
        {
          "output_type": "stream",
          "text": [
            "             ds    y\n",
            "0    2020-04-11    0\n",
            "1    2020-04-12    0\n",
            "2    2020-04-13    0\n",
            "3    2020-04-14    0\n",
            "4    2020-04-15    0\n",
            "..          ...  ...\n",
            "215  2020-11-12  697\n",
            "216  2020-11-13  702\n",
            "217  2020-11-14  702\n",
            "218  2020-11-15  710\n",
            "219  2020-11-16  717\n",
            "\n",
            "[220 rows x 2 columns]\n"
          ],
          "name": "stdout"
        }
      ]
    },
    {
      "cell_type": "markdown",
      "metadata": {
        "id": "VqEmj34Y9Bis"
      },
      "source": [
        "**Seleccionar Fecha a predecir**"
      ]
    },
    {
      "cell_type": "code",
      "metadata": {
        "id": "rLIJcL3-8qGF"
      },
      "source": [
        "#@title Seleccionar Fecha a Predecir\n",
        "fecha_predecir = \"2020-11-29\" #@param {type:\"date\"}\n",
        "fecha_predecir = datetime.datetime.strptime(fecha_predecir, '%Y-%m-%d')\n",
        "df_especifico.columns = ['ds','y']\n",
        "df_especifico['ds'] = to_datetime(df_especifico['ds'])\n",
        "ultimo = df_especifico.tail(1)\n",
        "ultima_fecha_str = ultimo.iloc[0]['ds']\n",
        "ultima_fecha = ultima_fecha_str.to_pydatetime()\n",
        "delta = fecha_predecir - ultima_fecha\n",
        "delta_days = delta.days\n"
      ],
      "execution_count": null,
      "outputs": []
    },
    {
      "cell_type": "markdown",
      "metadata": {
        "id": "H4tcVDzC-LAi"
      },
      "source": [
        "**Separar el dataset en entrenamiento y prueba**"
      ]
    },
    {
      "cell_type": "code",
      "metadata": {
        "colab": {
          "base_uri": "https://localhost:8080/"
        },
        "id": "zLO4Fsbebx6k",
        "outputId": "24ca095c-ec15-47a9-ff83-8ae0765dad17"
      },
      "source": [
        "\n",
        "def separarDataM(casosM):\n",
        "\n",
        "\t# choose a number of time steps\n",
        "\tn_stepsM = 5\n",
        "\t# split into samples\n",
        "\t#X, y = split_sequence(casos, n_steps)\n",
        "\tXM, yM = list(), list()\n",
        "\tsequenceM=casosM\n",
        "\tfor i in range(len(sequenceM)):\n",
        "\t\t# find the end of this pattern\n",
        "\t\tend_ixM = i + n_stepsM\n",
        "\t\t# check if we are beyond the sequence\n",
        "\t\tif end_ixM > len(sequenceM)-1:\n",
        "\t\t\tbreak\n",
        "\t\t# gather input and output parts of the pattern\n",
        "\t\tseq_xM, seq_yM = sequenceM[i:end_ixM], sequenceM[end_ixM]\n",
        "\t\tXM.append(seq_xM)\n",
        "\t\tyM.append(seq_yM)\t\n",
        "\tXM = array(XM)\n",
        "\tyM = array(yM)\n",
        "\t# reshape from [samples, timesteps] into [samples, timesteps, features]\n",
        "\tn_featuresM = 1\n",
        "\tXM = XM.reshape((XM.shape[0], XM.shape[1], n_featuresM))\n",
        "\treturn XM,yM,n_stepsM,n_featuresM\n",
        "\t\n",
        "XM,yM,n_stepsM,n_featuresM = separarDataM(casosM)\n",
        "# summarize the data\n",
        "for i in range(3):\n",
        "\tprint(XM[i], yM[i])"
      ],
      "execution_count": null,
      "outputs": [
        {
          "output_type": "stream",
          "text": [
            "[[0]\n",
            " [0]\n",
            " [0]\n",
            " [0]\n",
            " [0]] 0\n",
            "[[0]\n",
            " [0]\n",
            " [0]\n",
            " [0]\n",
            " [0]] 0\n",
            "[[0]\n",
            " [0]\n",
            " [0]\n",
            " [0]\n",
            " [0]] 0\n"
          ],
          "name": "stdout"
        }
      ]
    },
    {
      "cell_type": "markdown",
      "metadata": {
        "id": "dY7Pz_t3AgCI"
      },
      "source": [
        "**Definir el modelo de la LSTM**"
      ]
    },
    {
      "cell_type": "code",
      "metadata": {
        "id": "WaRv3UsZA0x6"
      },
      "source": [
        "modelM = Sequential()\n",
        "modelM.add(LSTM(50, activation='relu',return_sequences=True, input_shape=(n_stepsM, n_featuresM)))\n",
        "modelM.add(LSTM(50, activation='relu'))\n",
        "modelM.add(Dense(1))\n",
        "modelM.compile(optimizer='adam', loss='mse')"
      ],
      "execution_count": null,
      "outputs": []
    },
    {
      "cell_type": "markdown",
      "metadata": {
        "id": "RGvqGmYMAgJ2"
      },
      "source": [
        "**Entrenar la LSTM**"
      ]
    },
    {
      "cell_type": "code",
      "metadata": {
        "id": "mzoAIOM6A1IK"
      },
      "source": [
        "def entrenarLSTMM(XM,yM):\n",
        "  modelM.fit(XM, yM, epochs=200, verbose=0)"
      ],
      "execution_count": null,
      "outputs": []
    },
    {
      "cell_type": "markdown",
      "metadata": {
        "id": "9Hs9PrkHAgQ-"
      },
      "source": [
        "**Mostrar Predicciones**"
      ]
    },
    {
      "cell_type": "code",
      "metadata": {
        "id": "I5QfDPGuA1fv"
      },
      "source": [
        "def predecirM(XM,yM,modelM,casosM):\n",
        "  x_input= casosM[-5:]\n",
        "  x_input = array(x_input)\n",
        "  x_input = x_input.reshape((1, n_stepsM, n_featuresM))\n",
        "  yhat = modelM.predict(x_input, verbose=0)\n",
        "  yhat = math.floor(yhat[0][0])\n",
        "  casosM.append(yhat)\n",
        "\n",
        "for i in range(delta_days):\n",
        "\n",
        "  separarDataM(casosM)\n",
        "  entrenarLSTMM(XM,yM)\n",
        "  predecirM(XM,yM,modelM,casosM)\n",
        "\n",
        "prediccion = casosM[-1]\n",
        "casosM = df_especifico['y']\n",
        "casosM = casosM.tolist()  \n"
      ],
      "execution_count": null,
      "outputs": []
    },
    {
      "cell_type": "code",
      "metadata": {
        "colab": {
          "base_uri": "https://localhost:8080/"
        },
        "id": "wFKRkUMXA1lP",
        "outputId": "153b4c63-e683-4954-b260-ad46dd7acecc"
      },
      "source": [
        "print(\"El valor de la predicción para: \" + str(fecha_predecir) + \" es: \" + str(prediccion) + \" casos\")\n"
      ],
      "execution_count": null,
      "outputs": [
        {
          "output_type": "stream",
          "text": [
            "El valor de la predicción para: 2020-11-29 00:00:00 es: 756 casos\n"
          ],
          "name": "stdout"
        }
      ]
    },
    {
      "cell_type": "markdown",
      "metadata": {
        "id": "2yJULufoy3Vg"
      },
      "source": [
        "# Referencias"
      ]
    },
    {
      "cell_type": "markdown",
      "metadata": {
        "id": "fzFsHKuTy597"
      },
      "source": [
        "\n",
        "\n",
        "*   [Tensor Flow Time Series Forecasting](https://www.tensorflow.org/tutorials/structured_data/time_series)\n",
        "*   [Machine Learning Mastery by Jason Brownlee](https://machinelearningmastery.com/)\n",
        "\n"
      ]
    }
  ]
}